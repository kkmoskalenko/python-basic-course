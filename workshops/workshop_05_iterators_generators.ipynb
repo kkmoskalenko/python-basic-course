{
 "cells": [
  {
   "cell_type": "markdown",
   "id": "97272273",
   "metadata": {},
   "source": [
    "# Workshop 5: Итераторы и генераторы"
   ]
  },
  {
   "cell_type": "markdown",
   "id": "d06c7ff2",
   "metadata": {},
   "source": [
    "## 1. Пересобираем reversed\n",
    "\n",
    "Напишите класс reverse_iter, который принимает в качестве входных данных список (list) и итерируется по нему в обратном порядке."
   ]
  },
  {
   "cell_type": "markdown",
   "id": "f378ffa6",
   "metadata": {},
   "source": [
    "## 2. Генератор имен файлов\n",
    "\n",
    "Напишите программу, которая принимает одно или несколько имен файлов в качестве аргументов командной строки и печатает все имена длиной более 40 символов (с помощью генераторных выражений)."
   ]
  },
  {
   "cell_type": "markdown",
   "id": "11fbc7f5",
   "metadata": {},
   "source": [
    "## 3. Рекурсивный обход директории\n",
    "\n",
    "Напишите функцию findfiles, которая рекурсивно спускается по дереву каталогов для указанного каталога и генерирует пути ко всем файлам в дереве."
   ]
  },
  {
   "cell_type": "markdown",
   "id": "fb92b6d8",
   "metadata": {},
   "source": [
    "## 4. Разбиение файла на части\n",
    "\n",
    "Напишите скрипт split.py, который принимает целое число n и имя файла и разбивает его на несколько небольших файлов, каждый из которых содержит n строк."
   ]
  },
  {
   "cell_type": "markdown",
   "id": "79bf7180",
   "metadata": {},
   "source": [
    "## 5. Подсчет числа строк в всех файлах проекта\n",
    "\n",
    "Напишите функцию для рекурсивного вычисления общего количества строк кода, игнорируя пустые строки и строки комментариев, во всех файлах python в указанном каталоге."
   ]
  }
 ],
 "metadata": {
  "kernelspec": {
   "display_name": "Python 3 (ipykernel)",
   "language": "python",
   "name": "python3"
  },
  "language_info": {
   "codemirror_mode": {
    "name": "ipython",
    "version": 3
   },
   "file_extension": ".py",
   "mimetype": "text/x-python",
   "name": "python",
   "nbconvert_exporter": "python",
   "pygments_lexer": "ipython3",
   "version": "3.8.10"
  }
 },
 "nbformat": 4,
 "nbformat_minor": 5
}
