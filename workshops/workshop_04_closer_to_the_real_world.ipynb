{
 "cells": [
  {
   "cell_type": "markdown",
   "id": "55a58b8d",
   "metadata": {},
   "source": [
    "# Workshop 04: Ближе к прикладным задачам"
   ]
  },
  {
   "cell_type": "markdown",
   "id": "0a5fc7b6",
   "metadata": {},
   "source": [
    "## 1. Вычисление детерминанта матрицы\n",
    "\n",
    "Напишите функцию, позволяющую вычислить определитель данной квадратной матрицы.\n",
    "\n",
    "Примеры:\n",
    "\n",
    "```\n",
    "determinant([[3]]) ➞ 3\n",
    "\n",
    "determinant([[1, 0], [5, 4]]) ➞ 4\n",
    "\n",
    "determinant([[3, 0], [2, 2]]) ➞ 6\n",
    "\n",
    "determinant([[4, 8, 6], [2, 4, 3], [6, 2, 1]]) ➞ 0\n",
    "```"
   ]
  },
  {
   "cell_type": "code",
   "execution_count": null,
   "id": "9a747be3",
   "metadata": {
    "ExecuteTime": {
     "end_time": "2023-09-24T12:57:45.377641Z",
     "start_time": "2023-09-24T12:57:45.367471Z"
    }
   },
   "outputs": [],
   "source": [
    "def determinant(matrix):\n",
    "    # Your code will be here\n",
    "    pass"
   ]
  },
  {
   "cell_type": "code",
   "execution_count": null,
   "id": "e37f470d",
   "metadata": {
    "ExecuteTime": {
     "end_time": "2023-09-24T12:58:21.564895Z",
     "start_time": "2023-09-24T12:58:21.558488Z"
    }
   },
   "outputs": [],
   "source": [
    "print(determinant([[3]]))\n",
    "\n",
    "print(determinant([[1, 0], [5, 4]]))\n",
    "\n",
    "print(determinant([[3, 0], [2, 2]]))\n",
    "\n",
    "print(determinant([[4, 8, 6], [2, 4, 3], [6, 2, 1]]))"
   ]
  },
  {
   "cell_type": "markdown",
   "id": "ac34a01a",
   "metadata": {},
   "source": [
    "## 2. Проверка валидности имени\n",
    "\n",
    "Для данного упражнения держите в голове два термина:\n",
    "- инициал = 1 символ\n",
    "- слово = 2+ символа без точек\n",
    "\n",
    "Валидное имя - имя, написанное одним из следующих способов:\n",
    "\n",
    "- H. Wells\n",
    "- H. G. Wells\n",
    "- Herbert G. Wells\n",
    "- Herbert George Wells\n",
    "\n",
    "Следующие имена некорректны:\n",
    "\n",
    "- Herbert or Wells (имя из одного слова недопустимо)\n",
    "- H Wells or H. G Wells (инициалы должны заканчиваться точками)\n",
    "- h. Wells or H. wells or h. g. Wells (некорректная расстановка заглавных букв)\n",
    "- H. George Wells (Второе имя - отчество - написано полностью, в то время как имя сокращено до инициала)\n",
    "- H. G. W. (фамилия не является словом)\n",
    "- Herb. G. W. (точки разрешены только после инициалов)\n",
    "\n",
    "Правила:\n",
    "1. Как инициалы, так и слова должны быть написаны заглавными буквами.\n",
    "2. Инициалы должны заканчиваться точкой.\n",
    "3. Полное имя должно состоять либо из 2, либо из 3 слов (в зависимости от того, существует ли второе имя (отчество)).\n",
    "4. Если полное имя состоит из 3 слов, то полностью написать можно только имя и отчество или только имя. Вы не можете сохранить имя в качестве инициала и написать полностью только второе имя (отчество).\n",
    "5. Фамилия должна быть словом (не инициалом).\n",
    "\n",
    "Ваша задача состоит в том, чтобы написать функцию, которая определяет, является ли имя допустимым или нет. Возвращает значение True, если имя допустимо, в противном случае значение False.\n",
    "\n",
    "Примеры:\n",
    "\n",
    "```\n",
    "valid_name(\"H. Wells\") ➞ True\n",
    "\n",
    "valid_name(\"H. G. Wells\") ➞ True\n",
    "\n",
    "valid_name(\"Herbert G. Wells\") ➞ True\n",
    "\n",
    "valid_name(\"Herbert\") ➞ False\n",
    "# Должно быть 2 или 3 слова\n",
    "\n",
    "valid_name(\"h. Wells\") ➞ False\n",
    "# Некорректная расстановка заглавных букв\n",
    "\n",
    "valid_name(\"H Wells\") ➞ False\n",
    "# Отсутсвующая точка после инициала\n",
    "\n",
    "valid_name(\"H. George Wells\") ➞ False\n",
    "# Имя через инициал, но отчество словом\n",
    "\n",
    "valid_name(\"H. George W.\") ➞ False\n",
    "# Фамилия не может быть записано инициалом\n",
    "```"
   ]
  },
  {
   "cell_type": "code",
   "execution_count": null,
   "id": "d8106abd",
   "metadata": {
    "ExecuteTime": {
     "end_time": "2023-09-24T13:10:37.728853Z",
     "start_time": "2023-09-24T13:10:37.726007Z"
    }
   },
   "outputs": [],
   "source": [
    "def valid_name(name):\n",
    "    # Your code will be here\n",
    "    pass"
   ]
  },
  {
   "cell_type": "code",
   "execution_count": null,
   "id": "50ab8bd7",
   "metadata": {
    "ExecuteTime": {
     "end_time": "2023-09-24T13:13:50.301286Z",
     "start_time": "2023-09-24T13:13:50.296035Z"
    }
   },
   "outputs": [],
   "source": [
    "print(valid_name(\"H. Wells\"))\n",
    "print(valid_name(\"H. G. Wells\"))\n",
    "print(valid_name(\"Herbert G. Wells\"))\n",
    "print(valid_name(\"Herbert\"))\n",
    "print(valid_name(\"h. Wells\"))\n",
    "print(valid_name(\"H Wells\"))\n",
    "print(valid_name(\"H. George Wells\"))\n",
    "print(valid_name(\"H. George W.\"))"
   ]
  },
  {
   "cell_type": "markdown",
   "id": "41760606",
   "metadata": {},
   "source": [
    "## 3. Озвучь число!\n",
    "\n",
    "Создайте функцию, которая принимает цифру (просто цифры без разделителей (например, 19093 вместо 19,093) и возвращает стандартный способ чтения числа, дополненный знаками препинания.\n",
    "\n",
    "Примеры:\n",
    "\n",
    "```\n",
    "say_the_number(0) ➞ \"Zero.\"\n",
    "\n",
    "say_the_number(11) ➞ \"Eleven.\"\n",
    "\n",
    "say_the_number(1043283) ➞ \"One million, forty three thousand, two hundred and eighty three.\"\n",
    "\n",
    "say_the_number(90376000010012) ➞ \"Ninety trillion, three hundred and seventy six billion, ten thousand and twelve.\"\n",
    "```"
   ]
  },
  {
   "cell_type": "code",
   "execution_count": null,
   "id": "78c1fd06",
   "metadata": {
    "ExecuteTime": {
     "end_time": "2023-09-24T13:14:49.294573Z",
     "start_time": "2023-09-24T13:14:49.290270Z"
    }
   },
   "outputs": [],
   "source": [
    "def say_the_number(num):\n",
    "    # Your code will be here\n",
    "    pass"
   ]
  },
  {
   "cell_type": "code",
   "execution_count": null,
   "id": "7a8562a1",
   "metadata": {
    "ExecuteTime": {
     "end_time": "2023-09-24T13:17:47.019296Z",
     "start_time": "2023-09-24T13:17:47.015404Z"
    }
   },
   "outputs": [],
   "source": [
    "print(say_the_number(0))\n",
    "\n",
    "print(say_the_number(11))\n",
    "\n",
    "print(say_the_number(1043283))\n",
    "\n",
    "print(say_the_number(90376000010012))"
   ]
  },
  {
   "cell_type": "markdown",
   "id": "d170a255",
   "metadata": {},
   "source": [
    "## 4. Рюкзак (https://en.wikipedia.org/wiki/Knapsack_problem)\n",
    "\n",
    "Имея рюкзак определенного веса, наполните его добычей из списка предметов, чтобы получить максимально возможную ценность.\n",
    "\n",
    "Функция принимает два параметра: целое число, указывающее максимальный вес, который может вместить рюкзак, и список элементов на выбор. У каждого элемента есть название, вес и значение. Общий вес всех выбранных предметов не может превышать вместимости рюкзака.\n",
    "\n",
    "Функция должна возвращать словарь, содержащий вместимость сумки, список предметов, которые были добавлены в сумку (в том же порядке, в котором они были даны), общий вес этих предметов и общую стоимость предметов.\n",
    "\n",
    "Пример:\n",
    "\n",
    "```\n",
    "knapsack(0, items) ➞ {\n",
    "  \"capacity\": 0,\n",
    "  \"items\": [],\n",
    "  \"weight\": 0,\n",
    "  \"value\": 0\n",
    "}\n",
    "```"
   ]
  },
  {
   "cell_type": "code",
   "execution_count": null,
   "id": "07c8b7a8",
   "metadata": {
    "ExecuteTime": {
     "end_time": "2023-09-24T13:22:02.690860Z",
     "start_time": "2023-09-24T13:22:02.687340Z"
    }
   },
   "outputs": [],
   "source": [
    "def knapsack(capacity, items):\n",
    "    # Your code will be here\n",
    "    pass"
   ]
  }
 ],
 "metadata": {
  "kernelspec": {
   "display_name": "Python 3 (ipykernel)",
   "language": "python",
   "name": "python3"
  },
  "language_info": {
   "codemirror_mode": {
    "name": "ipython",
    "version": 3
   },
   "file_extension": ".py",
   "mimetype": "text/x-python",
   "name": "python",
   "nbconvert_exporter": "python",
   "pygments_lexer": "ipython3",
   "version": "3.8.10"
  }
 },
 "nbformat": 4,
 "nbformat_minor": 5
}
