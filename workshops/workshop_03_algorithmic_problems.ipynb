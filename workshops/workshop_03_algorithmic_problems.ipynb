{
 "cells": [
  {
   "cell_type": "markdown",
   "id": "b95b64c0",
   "metadata": {},
   "source": [
    "# Workshop 3: Алгоритмические задачи"
   ]
  },
  {
   "cell_type": "markdown",
   "id": "1e9dcb4c",
   "metadata": {},
   "source": [
    "## 1. Разложение числа на простые множители\n",
    "\n",
    "Напишите функцию, которая позволит разложить произвольное целочисленное число на простые множители и вернуть их список.\n",
    "\n",
    "Примеры:\n",
    "\n",
    "```\n",
    "prime_factors(20) ➞ [2, 2, 5]\n",
    "\n",
    "prime_factors(100) ➞ [2, 2, 5, 5]\n",
    "\n",
    "prime_factors(8912234) ➞ [2, 47, 94811]\n",
    "```"
   ]
  },
  {
   "cell_type": "code",
   "execution_count": 12,
   "id": "45cffc15",
   "metadata": {
    "ExecuteTime": {
     "end_time": "2023-09-24T11:44:59.867393Z",
     "start_time": "2023-09-24T11:44:59.863759Z"
    }
   },
   "outputs": [],
   "source": [
    "def prime_factors(num):\n",
    "    # Your code will be here\n",
    "    pass"
   ]
  },
  {
   "cell_type": "code",
   "execution_count": 14,
   "id": "5841a708",
   "metadata": {
    "ExecuteTime": {
     "end_time": "2023-09-24T11:45:00.308399Z",
     "start_time": "2023-09-24T11:45:00.291993Z"
    }
   },
   "outputs": [
    {
     "name": "stdout",
     "output_type": "stream",
     "text": [
      "[2, 2, 5]\n",
      "[2, 2, 5, 5]\n",
      "[2, 47, 94811]\n"
     ]
    }
   ],
   "source": [
    "print(prime_factors(20))\n",
    "\n",
    "print(prime_factors(100))\n",
    "\n",
    "print(prime_factors(8912234))"
   ]
  },
  {
   "cell_type": "markdown",
   "id": "06f4835e",
   "metadata": {},
   "source": [
    "## 2. Кластеры круглых скобок\n",
    "\n",
    "Напишите функцию, которая группирует строку в кластер круглых скобок. Каждый кластер должен быть сбалансирован.\n",
    "\n",
    "Примеры:\n",
    "\n",
    "```\n",
    "split(\"()()()\") ➞ [\"()\", \"()\", \"()\"]\n",
    "\n",
    "split(\"((()))\") ➞ [\"((()))\"]\n",
    "\n",
    "split(\"((()))(())()()(()())\") ➞ [\"((()))\", \"(())\", \"()\", \"()\", \"(()())\"]\n",
    "\n",
    "split(\"((())())(()(()()))\") ➞ [\"((())())\", \"(()(()()))\"]\n",
    "```"
   ]
  },
  {
   "cell_type": "code",
   "execution_count": 16,
   "id": "376a39d8",
   "metadata": {
    "ExecuteTime": {
     "end_time": "2023-09-24T11:45:12.180330Z",
     "start_time": "2023-09-24T11:45:12.177683Z"
    }
   },
   "outputs": [],
   "source": [
    "def split(text):\n",
    "    # Your code will be here\n",
    "    pass"
   ]
  },
  {
   "cell_type": "code",
   "execution_count": 19,
   "id": "7c194610",
   "metadata": {
    "ExecuteTime": {
     "end_time": "2023-09-24T11:45:14.248710Z",
     "start_time": "2023-09-24T11:45:14.243449Z"
    }
   },
   "outputs": [
    {
     "name": "stdout",
     "output_type": "stream",
     "text": [
      "['()', '()', '()']\n",
      "['((()))']\n",
      "['((()))', '(())', '()', '()', '(()())']\n",
      "['((())())', '(()(()()))']\n"
     ]
    }
   ],
   "source": [
    "print(split(\"()()()\"))\n",
    "\n",
    "print(split(\"((()))\"))\n",
    "\n",
    "print(split(\"((()))(())()()(()())\"))\n",
    "\n",
    "print(split(\"((())())(()(()()))\"))"
   ]
  },
  {
   "cell_type": "markdown",
   "id": "34e29e85",
   "metadata": {},
   "source": [
    "## 3. Перестановка цифр в числе\n",
    "\n",
    "Получив число, верните **разницу** между максимальным и минимальным числами, которые могут быть сформированы при перестановке цифр.\n",
    "\n",
    "Примеры:\n",
    "\n",
    "```\n",
    "rearranged_difference(972882) ➞ 760833\n",
    "# 988722 - 227889 = 760833\n",
    "\n",
    "rearranged_difference(3320707) ➞ 7709823\n",
    "# 7733200 - 23377 = 7709823\n",
    "\n",
    "rearranged_difference(90010) ➞ 90981\n",
    "# 91000 - 19 = 90981\n",
    "```"
   ]
  },
  {
   "cell_type": "code",
   "execution_count": 20,
   "id": "1c8c1f68",
   "metadata": {
    "ExecuteTime": {
     "end_time": "2023-09-24T11:48:21.551713Z",
     "start_time": "2023-09-24T11:48:21.548259Z"
    }
   },
   "outputs": [],
   "source": [
    "def rearranged_difference(num):\n",
    "    # Your code will be here\n",
    "    pass"
   ]
  },
  {
   "cell_type": "code",
   "execution_count": 24,
   "id": "7fb9225d",
   "metadata": {
    "ExecuteTime": {
     "end_time": "2023-09-24T11:49:00.542241Z",
     "start_time": "2023-09-24T11:49:00.538629Z"
    }
   },
   "outputs": [
    {
     "name": "stdout",
     "output_type": "stream",
     "text": [
      "760833\n",
      "7709823\n",
      "90981\n"
     ]
    }
   ],
   "source": [
    "print(rearranged_difference(972882))\n",
    "\n",
    "print(rearranged_difference(3320707))\n",
    "\n",
    "print(rearranged_difference(90010))"
   ]
  },
  {
   "cell_type": "markdown",
   "id": "4746d2c8",
   "metadata": {},
   "source": [
    "## 4. Места на концерте\n",
    "\n",
    "Создайте функцию, которая определяет, с каждого ли места в зале видно сцену. С места будет видно сцену, если его номер строго больше номера места перед ним.\n",
    "\n",
    "Сцену будет видно со всех мест в примере ниже:\n",
    "\n",
    "```\n",
    "# FRONT STAGE\n",
    "[[1, 2, 3, 2, 1, 1],\n",
    "[2, 4, 4, 3, 2, 2],\n",
    "[5, 5, 5, 5, 4, 4],\n",
    "[6, 6, 7, 6, 5, 5]]\n",
    "\n",
    "# Например, для первого столбца слева направо, 6 > 5 > 2 > 1, то есть сцену видно со всего столбца.\n",
    "# Для второго, 6 > 5 > 4 > 2 - тоже видно со всех мест. И так далее...\n",
    "```\n",
    "\n",
    "В этом примере сцену видно не с каждого места:\n",
    "\n",
    "```\n",
    "# FRONT STAGE\n",
    "[[1, 2, 3, 2, 1, 1], \n",
    "[2, 4, 4, 3, 2, 2], \n",
    "[5, 5, 5, 10, 4, 4], \n",
    "[6, 6, 7, 6, 5, 5]]\n",
    "\n",
    "# Число 10 находится прямо перед 6 в четвертом столбце слева, поэтому с этого места сцены не видно.\n",
    "```\n",
    "\n",
    "Функция должна возвращать `True` или `False` в зависимости от условий выше.\n",
    "\n",
    "Примеры:\n",
    "\n",
    "```\n",
    "can_see_stage([\n",
    "  [1, 2, 3],\n",
    "  [4, 5, 6],\n",
    "  [7, 8, 9]\n",
    "]) ➞ True\n",
    "\n",
    "can_see_stage([\n",
    "  [0, 0, 0],\n",
    "  [1, 1, 1],\n",
    "  [2, 2, 2]\n",
    "]) ➞ True\n",
    "\n",
    "can_see_stage([\n",
    "  [2, 0, 0], \n",
    "  [1, 1, 1], \n",
    "  [2, 2, 2]\n",
    "]) ➞ False\n",
    "\n",
    "can_see_stage([\n",
    "  [1, 0, 0],\n",
    "  [1, 1, 1],\n",
    "  [2, 2, 2]\n",
    "]) ➞ False\n",
    "```"
   ]
  },
  {
   "cell_type": "code",
   "execution_count": null,
   "id": "2d3b8c01",
   "metadata": {},
   "outputs": [],
   "source": [
    "def can_see_stage():\n",
    "    # Your code will be here\n",
    "    pass"
   ]
  },
  {
   "cell_type": "code",
   "execution_count": 26,
   "id": "f1c132db",
   "metadata": {
    "ExecuteTime": {
     "end_time": "2023-09-24T11:59:52.267597Z",
     "start_time": "2023-09-24T11:59:52.261412Z"
    }
   },
   "outputs": [
    {
     "name": "stdout",
     "output_type": "stream",
     "text": [
      "True\n",
      "True\n",
      "False\n",
      "False\n"
     ]
    }
   ],
   "source": [
    "print(can_see_stage([\n",
    "  [1, 2, 3],\n",
    "  [4, 5, 6],\n",
    "  [7, 8, 9]\n",
    "]))\n",
    "\n",
    "print(can_see_stage([\n",
    "  [0, 0, 0],\n",
    "  [1, 1, 1],\n",
    "  [2, 2, 2]\n",
    "]))\n",
    "\n",
    "print(can_see_stage([\n",
    "  [2, 0, 0], \n",
    "  [1, 1, 1], \n",
    "  [2, 2, 2]\n",
    "]))\n",
    "\n",
    "print(can_see_stage([\n",
    "  [1, 0, 0],\n",
    "  [1, 1, 1],\n",
    "  [2, 2, 2]\n",
    "]))"
   ]
  },
  {
   "cell_type": "markdown",
   "id": "1bade0de",
   "metadata": {},
   "source": [
    "## 5. Треугольник Паскаля\n",
    "\n",
    "Цель этого задания - отобразить треугольник Паскаля вплоть до номера 29. В этом треугольнике на вершине и по бокам стоят единицы. Каждое число равно сумме двух расположенных над ним чисел. Строки треугольника симметричны относительно вертикальной оси.\n",
    "\n",
    "![pascals_triangle](https://codemg.ru/algebra/pascals%20triangle.gif)\n",
    "\n",
    "Напишите функцию, которая возвращает ряд из треугольника Паскаля. Чтобы найти ряд и столбец, вы можете использовать следующую функцию:\n",
    "\n",
    "```\n",
    "n! / ( k! * ( n - k )! )\n",
    "```\n",
    "\n",
    "где `n` - это номер ряда, и `k` - столбец.\n",
    "\n",
    "Примеры:\n",
    "\n",
    "```\n",
    "pascals_triangle(1) ➞ \"1 1\"\n",
    "\n",
    "pascals_triangle(4) ➞ \"1 4 6 4 1\"\n",
    "\n",
    "pascals_triangle(6) ➞ \"1 6 15 20 15 6 1\"\n",
    "\n",
    "pascals_triangle(8) ➞ \"1 8 28 56 70 56 28 8 1\"\n",
    "```"
   ]
  },
  {
   "cell_type": "code",
   "execution_count": 28,
   "id": "6b17c0b8",
   "metadata": {
    "ExecuteTime": {
     "end_time": "2023-09-24T12:14:30.546601Z",
     "start_time": "2023-09-24T12:14:30.543082Z"
    }
   },
   "outputs": [],
   "source": [
    "def pascals_triangle(n):\n",
    "    # Your code will be here\n",
    "    pass"
   ]
  },
  {
   "cell_type": "code",
   "execution_count": 30,
   "id": "6a1b68df",
   "metadata": {
    "ExecuteTime": {
     "end_time": "2023-09-24T12:15:52.394959Z",
     "start_time": "2023-09-24T12:15:52.391070Z"
    }
   },
   "outputs": [
    {
     "name": "stdout",
     "output_type": "stream",
     "text": [
      "1 1\n",
      "1 4 6 4 1\n",
      "1 6 15 20 15 6 1\n",
      "1 8 28 56 70 56 28 8 1\n"
     ]
    }
   ],
   "source": [
    "print(pascals_triangle(1))\n",
    "\n",
    "print(pascals_triangle(4))\n",
    "\n",
    "print(pascals_triangle(6))\n",
    "\n",
    "print(pascals_triangle(8))"
   ]
  },
  {
   "cell_type": "markdown",
   "id": "b1d0df14",
   "metadata": {},
   "source": [
    "## 6. Заполнение строки до слова\n",
    "\n",
    "Входная строка может быть заполнена, если в нее можно добавить дополнительные буквы без удалений других таким образом, что итоговая заполенная строка совпадет с предложенным словом. Кроме того, порядок букв во входной строке должен совпадать с порядком букв в конечном слове.\n",
    "Создайте функцию, которая, учитывая входную строку, определяет, может ли слово быть завершено.\n",
    "\n",
    "Примеры:\n",
    "\n",
    "```\n",
    "can_complete(\"butl\", \"beautiful\") ➞ True\n",
    "# Мы можем добавить \"ea\" между \"b\" и \"u\", и еще \"ifu\" между \"t\" и \"l\".\n",
    "\n",
    "can_complete(\"butlz\", \"beautiful\") ➞ False\n",
    "# \"z\" отсуствует в слове beautiful.\n",
    "\n",
    "can_complete(\"tulb\", \"beautiful\") ➞ False\n",
    "# Несмотря на то, что \"t\", \"u\", \"l\" и \"b\" все присутсвуют в \"beautiful\", они расположены в неправильном порядке.\n",
    "\n",
    "can_complete(\"bbutl\", \"beautiful\") ➞ False\n",
    "# Слишком много символов \"b\", beautiful содержит только одну.\n",
    "```"
   ]
  },
  {
   "cell_type": "code",
   "execution_count": 32,
   "id": "ba1ee40f",
   "metadata": {
    "ExecuteTime": {
     "end_time": "2023-09-24T12:22:38.036840Z",
     "start_time": "2023-09-24T12:22:38.033866Z"
    }
   },
   "outputs": [],
   "source": [
    "def can_complete(initial, word):\n",
    "    # Your code will be here\n",
    "    pass"
   ]
  },
  {
   "cell_type": "code",
   "execution_count": 35,
   "id": "b62c97c2",
   "metadata": {
    "ExecuteTime": {
     "end_time": "2023-09-24T12:23:28.301697Z",
     "start_time": "2023-09-24T12:23:28.297176Z"
    }
   },
   "outputs": [
    {
     "name": "stdout",
     "output_type": "stream",
     "text": [
      "True\n",
      "False\n",
      "False\n",
      "False\n"
     ]
    }
   ],
   "source": [
    "print(can_complete(\"butl\", \"beautiful\"))\n",
    "\n",
    "print(can_complete(\"butlz\", \"beautiful\"))\n",
    "\n",
    "print(can_complete(\"tulb\", \"beautiful\"))\n",
    "\n",
    "print(can_complete(\"bbutl\", \"beautiful\"))"
   ]
  },
  {
   "cell_type": "markdown",
   "id": "2baf1984",
   "metadata": {},
   "source": [
    "## 7. Усложненная сортировка списка\n",
    "\n",
    "Создайте функцию, которая принимает список чисел или строк и возвращает список с элементами из исходного списка, сохраненными в подсписках. Элементы с одинаковым значением должны находиться в одном и том же подсписке.\n",
    "\n",
    "NOTE: Подсписки должны быть возвращены в порядке первого появления каждого элемента в данном списке.\n",
    "\n",
    "Примеры:\n",
    "\n",
    "```\n",
    "advanced_sort([2, 1, 2, 1]) ➞ [[2, 2], [1, 1]]\n",
    "\n",
    "advanced_sort([5, 4, 5, 5, 4, 3]) ➞ [[5, 5, 5], [4, 4], [3]]\n",
    "\n",
    "advanced_sort([\"b\", \"a\", \"b\", \"a\", \"c\"]) ➞ [[\"b\", \"b\"], [\"a\", \"a\"], [\"c\"]]\n",
    "```"
   ]
  },
  {
   "cell_type": "code",
   "execution_count": 41,
   "id": "ffe647b9",
   "metadata": {
    "ExecuteTime": {
     "end_time": "2023-09-24T12:31:35.687944Z",
     "start_time": "2023-09-24T12:31:35.684524Z"
    }
   },
   "outputs": [],
   "source": [
    "def advanced_sort(lst):\n",
    "    # Your code will be here\n",
    "    pass"
   ]
  },
  {
   "cell_type": "code",
   "execution_count": 44,
   "id": "ed1ae91b",
   "metadata": {
    "ExecuteTime": {
     "end_time": "2023-09-24T12:31:37.416495Z",
     "start_time": "2023-09-24T12:31:37.412023Z"
    }
   },
   "outputs": [
    {
     "name": "stdout",
     "output_type": "stream",
     "text": [
      "[[2, 2], [1, 1]]\n",
      "[[5, 5, 5], [4, 4], [3]]\n",
      "[['b', 'b'], ['a', 'a'], ['c']]\n"
     ]
    }
   ],
   "source": [
    "print(advanced_sort([2, 1, 2, 1]))\n",
    "\n",
    "print(advanced_sort([5, 4, 5, 5, 4, 3]))\n",
    "\n",
    "print(advanced_sort([\"b\", \"a\", \"b\", \"a\", \"c\"]))"
   ]
  },
  {
   "cell_type": "markdown",
   "id": "726087cd",
   "metadata": {},
   "source": [
    "## 8. Сокращение дробей\n",
    "\n",
    "Напишите функцию, которая позволит сократить дробь, записанную с помощью знака `/` в строке. Ответ так же должен быть строкой. \n",
    "\n",
    "NOTE: Если дробь сокращается до целого числа, выведите его.\n",
    "\n",
    "Примеры:\n",
    "\n",
    "```\n",
    "simplify(\"4/6\") ➞ \"2/3\"\n",
    "\n",
    "simplify(\"10/11\") ➞ \"10/11\"\n",
    "\n",
    "simplify(\"100/400\") ➞ \"1/4\"\n",
    "\n",
    "simplify(\"8/4\") ➞ \"2\"\n",
    "```"
   ]
  },
  {
   "cell_type": "code",
   "execution_count": 45,
   "id": "77ce4c84",
   "metadata": {
    "ExecuteTime": {
     "end_time": "2023-09-24T12:35:33.566486Z",
     "start_time": "2023-09-24T12:35:33.563751Z"
    }
   },
   "outputs": [],
   "source": [
    "def simplify(text):\n",
    "    # Your code will be here\n",
    "    pass"
   ]
  },
  {
   "cell_type": "code",
   "execution_count": 53,
   "id": "7c4d1e0f",
   "metadata": {
    "ExecuteTime": {
     "end_time": "2023-09-24T12:44:30.201102Z",
     "start_time": "2023-09-24T12:44:30.198460Z"
    }
   },
   "outputs": [
    {
     "name": "stdout",
     "output_type": "stream",
     "text": [
      "2/3\n",
      "10/11\n",
      "1/4\n",
      "2\n"
     ]
    }
   ],
   "source": [
    "print(simplify(\"4/6\"))\n",
    "\n",
    "print(simplify(\"10/11\"))\n",
    "\n",
    "print(simplify(\"100/400\"))\n",
    "\n",
    "print(simplify(\"8/4\"))"
   ]
  },
  {
   "cell_type": "markdown",
   "id": "8ab6de76",
   "metadata": {},
   "source": [
    "## 9. Валидация номера телефона\n",
    "\n",
    "Напишите функцию, которая проверяет, является ли введенный номер телефона валидным.  \n",
    "Следующие номера являются валидными:\n",
    "\n",
    "\n",
    "| With Country Code | Without Country Code |\n",
    "|-------------------|----------------------|\n",
    "| +7-892-445-7663   | 892-445-7663         |\n",
    "| 7-892-445-7663    | (892) 445-7663       |\n",
    "| 7 (892) 445-7663  | 892.567.8901         |\n",
    "| 7.892.567.8901    | 1/892/567/8901       |\n",
    "| 7 892 567 8901    | 892/567/8901         |\n",
    "| 78925678901       | 892 567 8901         |\n",
    "\n",
    "- Код страны всегда будет равен +7 или 7.\n",
    "- Каждый телефонный номер будет содержать либо 10, либо 11 цифр (в зависимости от того, существует ли код страны).\n",
    "- Между кластерами цифр должен быть либо ровно один пробел, разделитель, либо вообще никакого пробела.\n",
    "\n",
    "Примеры:\n",
    "\n",
    "```\n",
    "validate(\"578-332-1114\") ➞ True\n",
    "\n",
    "validate(\"57-332-1114\") ➞ False\n",
    "\n",
    "validate(\"577 332  1114\") ➞ False\n",
    "# Более одного пробела между кластерами цифр.\n",
    "\n",
    "validate(\"57 332 1114\") ➞ False\n",
    "# Недопустимая длина кластера.\n",
    "\n",
    "validate(\"157%332-1114\") ➞ False\n",
    "# Недопустимый разделитель.\n",
    "```"
   ]
  },
  {
   "cell_type": "code",
   "execution_count": 54,
   "id": "ea66ad59",
   "metadata": {
    "ExecuteTime": {
     "end_time": "2023-09-24T12:44:39.965806Z",
     "start_time": "2023-09-24T12:44:39.963105Z"
    }
   },
   "outputs": [],
   "source": [
    "def validate(text):\n",
    "    # Your code will be here\n",
    "    pass"
   ]
  },
  {
   "cell_type": "code",
   "execution_count": 56,
   "id": "53ac19f7",
   "metadata": {
    "ExecuteTime": {
     "end_time": "2023-09-24T12:46:02.884699Z",
     "start_time": "2023-09-24T12:46:02.880445Z"
    }
   },
   "outputs": [
    {
     "name": "stdout",
     "output_type": "stream",
     "text": [
      "True\n",
      "False\n",
      "False\n",
      "False\n",
      "False\n"
     ]
    }
   ],
   "source": [
    "print(validate(\"578-332-1114\"))\n",
    "\n",
    "print(validate(\"57-332-1114\"))\n",
    "\n",
    "print(validate(\"577 332  1114\"))\n",
    "\n",
    "print(validate(\"57 332 1114\"))\n",
    "\n",
    "print(validate(\"157%332-1114\"))"
   ]
  },
  {
   "cell_type": "markdown",
   "id": "13cd7e0a",
   "metadata": {},
   "source": [
    "## 10. Решение простых уравнений\n",
    "\n",
    "Получив строку, содержащую алгебраическое уравнение, вычислите и верните значение x. Вам будут даны уравнения только для простого сложения и вычитания.\n",
    "\n",
    "Примеры:\n",
    "\n",
    "```\n",
    "eval_algebra(\"2 + x = 19\") ➞ 17\n",
    "\n",
    "eval_algebra(\"4 - x = 1\") ➞ 3\n",
    "\n",
    "eval_algebra(\"23 + 1 = x\") ➞ 24\n",
    "```"
   ]
  },
  {
   "cell_type": "code",
   "execution_count": 59,
   "id": "7e505031",
   "metadata": {
    "ExecuteTime": {
     "end_time": "2023-09-24T12:49:02.955148Z",
     "start_time": "2023-09-24T12:49:02.951649Z"
    }
   },
   "outputs": [],
   "source": [
    "def eval_algebra(eq):\n",
    "    # Your code will be here\n",
    "    pass"
   ]
  },
  {
   "cell_type": "code",
   "execution_count": 61,
   "id": "b54d7771",
   "metadata": {
    "ExecuteTime": {
     "end_time": "2023-09-24T12:49:05.324519Z",
     "start_time": "2023-09-24T12:49:05.318998Z"
    }
   },
   "outputs": [
    {
     "name": "stdout",
     "output_type": "stream",
     "text": [
      "17\n",
      "3\n",
      "24\n"
     ]
    }
   ],
   "source": [
    "print(eval_algebra(\"2 + x = 19\"))\n",
    "\n",
    "print(eval_algebra(\"4 - x = 1\"))\n",
    "\n",
    "print(eval_algebra(\"23 + 1 = x\"))"
   ]
  }
 ],
 "metadata": {
  "kernelspec": {
   "display_name": "Python 3 (ipykernel)",
   "language": "python",
   "name": "python3"
  },
  "language_info": {
   "codemirror_mode": {
    "name": "ipython",
    "version": 3
   },
   "file_extension": ".py",
   "mimetype": "text/x-python",
   "name": "python",
   "nbconvert_exporter": "python",
   "pygments_lexer": "ipython3",
   "version": "3.8.10"
  }
 },
 "nbformat": 4,
 "nbformat_minor": 5
}
